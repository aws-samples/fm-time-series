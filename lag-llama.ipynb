{
 "cells": [
  {
   "cell_type": "markdown",
   "id": "ab9c5cb1-c8c2-4b9b-baf1-d4cb5d56ce30",
   "metadata": {},
   "source": [
    "# Foundation Models for Time Series Forecasting: Lag-Llama"
   ]
  },
  {
   "cell_type": "markdown",
   "id": "a15997b1-e0bb-4434-b40b-45f349316d6d",
   "metadata": {},
   "source": [
    "This SageMaker Studio notebook has been tested with the following configuration:\n",
    "\n",
    "* Kernel: Python 3\n",
    "* Image: Data Science 3.0\n",
    "* Instance Type: ml.g5.2xlarge (8 vCPU + 1 GPU + 32 GiB)\n",
    "* Start-up Script: No script\n",
    "\n",
    "This notebook consists of the following sections:\n",
    "\n",
    "1. Introduction\n",
    "2. Prepare Model and Libraries\n",
    "3. Zero-Shot with Lag-Llama Foundation Model\n",
    "4. Comparison to GluonTS SimpleFeedForwardEstimator\n",
    "5. Fine Tune Lag-Llama on Sample Data\n",
    "6. Evaluate Fine-Tuned Lag-Llama\n",
    "7. Summary/Conclusions"
   ]
  },
  {
   "cell_type": "markdown",
   "id": "a9376cdc-03d9-4c92-9478-3ce81a63dfd5",
   "metadata": {
    "tags": []
   },
   "source": [
    "## 1. Introduction"
   ]
  },
  {
   "cell_type": "markdown",
   "id": "1da74cf7-e475-4eb5-b331-300b6232c5fb",
   "metadata": {
    "tags": []
   },
   "source": [
    "This is a sample notebook for educational purposes.\n",
    "\n",
    "Time series analysis is important in many real-world industries and applications.  Historically, numerous statistical and machine learning methods have been developed for time series analysis, and libraries such as [GluonTS](https://ts.gluon.ai/stable/) or [Darts](https://unit8co.github.io/darts/) have been used for tasks such as time series forecasting, classification, inputation, anomaly detection, and event prediction.\n",
    "\n",
    "Time series data comes in a variety of forms and from a variety of industries: healthcare, finance, retail, etc.  This variety increases the complexity of domain-specific model training; and, real-world time series data often exhibit non-stationary properties, meaning that the characteristics of the data changes over time.  This can lead to what's known as the concept drift problem, where there are changes in the data patterns and relationships that the ML model has learned, as the statistical properties of the target changes over time.\n",
    "\n",
    "There is an increasing trend in using Foundation Models (FMs) and Large Language Models (LLMs) in various time series applications, with several papers published in late 2023 and early 2024.  One benefit of foundation models is that they provide a framework for handling diverse tasks, which contrasts conventional wisdom where each task requires a specially designed algorithm.  In this notebook, we look at [Lag-Llama (October, 2023 paper)](https://arxiv.org/abs/2310.08278), a decoder-only transformer model designed for zero-shot probabilistic time series forecasting.\n",
    "\n",
    "In this notebook, we test a zero-shot Lag-Llama, compare it against a SimpleFeedForwardEstimator, and finally evaluate a fine-tuned Lag-Llama model."
   ]
  },
  {
   "cell_type": "markdown",
   "id": "d541ce4f-b567-4dc0-8556-69eab11c312f",
   "metadata": {},
   "source": [
    "## 2. Prepare Model and Libraries"
   ]
  },
  {
   "cell_type": "code",
   "execution_count": null,
   "id": "78efb512-3402-48ab-9cb8-b69ddebb7918",
   "metadata": {},
   "outputs": [],
   "source": [
    "%cd ~\n",
    "\n",
    "!git clone https://github.com/time-series-foundation-models/lag-llama/\n",
    "\n",
    "!pip install -r lag-llama/requirements.txt --quiet\n",
    "!huggingface-cli download time-series-foundation-models/Lag-Llama lag-llama.ckpt --local-dir lag-llama\n",
    "\n",
    "%cd lag-llama"
   ]
  },
  {
   "cell_type": "code",
   "execution_count": null,
   "id": "69b12032-89a0-4a3a-935e-fd53aeb709f4",
   "metadata": {},
   "outputs": [],
   "source": [
    "import torch\n",
    "\n",
    "from lag_llama.gluon.estimator import LagLlamaEstimator\n",
    "\n",
    "from gluonts.evaluation import make_evaluation_predictions, Evaluator\n",
    "from gluonts.mx import SimpleFeedForwardEstimator, Trainer\n",
    "\n",
    "from gluonts.dataset.repository.datasets import get_dataset\n",
    "\n",
    "from tqdm.autonotebook import tqdm\n",
    "\n",
    "from matplotlib import pyplot as plt\n",
    "from matplotlib import dates as mpld\n",
    "\n",
    "from itertools import islice"
   ]
  },
  {
   "cell_type": "markdown",
   "id": "3faf2899-2265-42a8-919f-ba0a26e1be60",
   "metadata": {},
   "source": [
    "GluonTS comes with a number of publicly available datasets, one of which is the *electricity* dataset."
   ]
  },
  {
   "cell_type": "code",
   "execution_count": null,
   "id": "214adb04-8b02-4bda-af6b-8e1d15b5fd87",
   "metadata": {},
   "outputs": [],
   "source": [
    "dataset = get_dataset(\"electricity\")"
   ]
  },
  {
   "cell_type": "markdown",
   "id": "f1ac1bf8-738e-4a51-bfb4-4877b267e33b",
   "metadata": {},
   "source": [
    "## 3. Zero-Shot with Lag-Llama Foundation Model"
   ]
  },
  {
   "cell_type": "code",
   "execution_count": null,
   "id": "89a4be13-eb71-4fda-915f-cb7b726f49ef",
   "metadata": {},
   "outputs": [],
   "source": [
    "ckpt = torch.load(\"lag-llama.ckpt\", map_location=torch.device('cuda'))\n",
    "estimator_args = ckpt[\"hyper_parameters\"][\"model_kwargs\"]"
   ]
  },
  {
   "cell_type": "code",
   "execution_count": null,
   "id": "409cd3e8-1675-4a33-9240-6d04bd764808",
   "metadata": {},
   "outputs": [],
   "source": [
    "estimator = LagLlamaEstimator(\n",
    "    ckpt_path=\"lag-llama.ckpt\",\n",
    "    prediction_length=dataset.metadata.prediction_length,\n",
    "    \n",
    "    #\n",
    "    # This is specific to Lag-Llama due to training;\n",
    "    # do not change this value.\n",
    "    #\n",
    "    context_length=32,\n",
    "\n",
    "    #\n",
    "    # estimator args\n",
    "    #\n",
    "    input_size=estimator_args[\"input_size\"],\n",
    "    n_layer=estimator_args[\"n_layer\"],\n",
    "    n_embd_per_head=estimator_args[\"n_embd_per_head\"],\n",
    "    n_head=estimator_args[\"n_head\"],\n",
    "    scaling=estimator_args[\"scaling\"],\n",
    "    time_feat=estimator_args[\"time_feat\"],\n",
    ")\n",
    "\n",
    "predictor = estimator.create_predictor(\n",
    "    estimator.create_transformation(),\n",
    "    estimator.create_lightning_module()\n",
    ")"
   ]
  },
  {
   "cell_type": "code",
   "execution_count": null,
   "id": "3b5d345d-0fa6-422b-b7ef-5d951f2ed745",
   "metadata": {},
   "outputs": [],
   "source": [
    "#\n",
    "# Setup for zero-shot inference.\n",
    "#\n",
    "forecast_it, ts_it = make_evaluation_predictions(\n",
    "    dataset=dataset.test,\n",
    "    predictor=predictor,\n",
    ")"
   ]
  },
  {
   "cell_type": "code",
   "execution_count": null,
   "id": "3075518d-7a90-468a-bece-eafdd641a36a",
   "metadata": {},
   "outputs": [],
   "source": [
    "forecasts = list(forecast_it)\n",
    "tss = list(ts_it)"
   ]
  },
  {
   "cell_type": "code",
   "execution_count": null,
   "id": "9951cb16-ed2e-4d41-b079-8515f1e017fc",
   "metadata": {},
   "outputs": [],
   "source": [
    "#\n",
    "# The Continuous Ranked Probability Score (CRPS) generalizes the MAE to the case of probabilistic forecasts.\n",
    "#   where CRPS = 0 means the forecast is wholly accurate; and, CRPS = 1 means the forecast is wholly inaccurate.\n",
    "#\n",
    "evaluator = Evaluator()\n",
    "\n",
    "agg_metrics, ts_metrics = evaluator(\n",
    "    iter(tss), iter(forecasts)\n",
    ")\n",
    "\n",
    "print(\"CRPS:\", agg_metrics['mean_wQuantileLoss'])"
   ]
  },
  {
   "cell_type": "code",
   "execution_count": null,
   "id": "e6eb9019-5fa1-471a-ad3e-bcb3f292e558",
   "metadata": {},
   "outputs": [],
   "source": [
    "plt.figure(figsize=(20, 15))\n",
    "date_formater = mpld.DateFormatter('%b, %d')\n",
    "plt.rcParams.update({'font.size': 15})\n",
    "\n",
    "for idx, (forecast, ts) in islice(enumerate(zip(forecasts, tss)), 9):\n",
    "    ax = plt.subplot(3, 3, idx+1)\n",
    "\n",
    "    plt.plot(ts[-4 * dataset.metadata.prediction_length:].to_timestamp(), label=\"target\", )\n",
    "    forecast.plot( color='g')\n",
    "    plt.xticks(rotation=60)\n",
    "    ax.xaxis.set_major_formatter(date_formater)\n",
    "    ax.set_title(forecast.item_id)\n",
    "\n",
    "plt.gcf().tight_layout()\n",
    "plt.legend()\n",
    "plt.show()"
   ]
  },
  {
   "cell_type": "markdown",
   "id": "45aa3133-aa0a-4abf-ba16-941b4b7bbadd",
   "metadata": {},
   "source": [
    "## 4. Comparison to GluonTS SimpleFeedForwardEstimator"
   ]
  },
  {
   "cell_type": "code",
   "execution_count": null,
   "id": "e0074ddf-9da3-4f92-ba09-ddc087da50db",
   "metadata": {},
   "outputs": [],
   "source": [
    "estimator = SimpleFeedForwardEstimator(\n",
    "    num_hidden_dimensions=[10],\n",
    "    prediction_length=dataset.metadata.prediction_length,\n",
    "    context_length=100,\n",
    "    trainer=Trainer(ctx=\"cpu\", epochs=5, learning_rate=1e-3, num_batches_per_epoch=100),\n",
    ")\n",
    "\n",
    "predictor = estimator.train(dataset.train)\n",
    "\n",
    "forecast_it, ts_it = make_evaluation_predictions(\n",
    "    dataset=dataset.test,\n",
    "    predictor=predictor,\n",
    "    num_samples=100,\n",
    ")\n",
    "\n",
    "forecasts = list(forecast_it)\n",
    "tss = list(ts_it)"
   ]
  },
  {
   "cell_type": "code",
   "execution_count": null,
   "id": "05e7ad0a-ed53-425a-9cd2-c06020f6242a",
   "metadata": {},
   "outputs": [],
   "source": [
    "#\n",
    "# first entry of the forecast list\n",
    "#\n",
    "forecast_entry = forecasts[0]\n",
    "\n",
    "print(f\"Number of sample paths: {forecast_entry.num_samples}\")\n",
    "print(f\"Dimension of samples: {forecast_entry.samples.shape}\")\n",
    "print(f\"Start date of the forecast window: {forecast_entry.start_date}\")\n",
    "print(f\"Frequency of the time series: {forecast_entry.freq}\")\n",
    "\n",
    "print(f\"Mean of the future window:\\n {forecast_entry.mean}\")\n",
    "print(f\"0.5-quantile (median) of the future window:\\n {forecast_entry.quantile(0.5)}\")"
   ]
  },
  {
   "cell_type": "code",
   "execution_count": null,
   "id": "73d12aae-c5ec-4d75-927a-1ded0c368484",
   "metadata": {},
   "outputs": [],
   "source": [
    "evaluator = Evaluator()\n",
    "\n",
    "agg_metrics, ts_metrics = evaluator(\n",
    "    iter(tss), iter(forecasts)\n",
    ")\n",
    "\n",
    "print(\"CRPS:\", agg_metrics['mean_wQuantileLoss'])"
   ]
  },
  {
   "cell_type": "markdown",
   "id": "7909ef9f-1172-44df-98b2-d9d52463db3e",
   "metadata": {},
   "source": [
    "## 5. Fine Tune Lag-Llama on Sample Data"
   ]
  },
  {
   "cell_type": "code",
   "execution_count": null,
   "id": "895d4e2e-174d-4b69-92c3-033e5af3489e",
   "metadata": {},
   "outputs": [],
   "source": [
    "ckpt = torch.load(\"lag-llama.ckpt\", map_location=torch.device('cuda'))\n",
    "estimator_args = ckpt[\"hyper_parameters\"][\"model_kwargs\"]\n",
    "\n",
    "estimator = LagLlamaEstimator(\n",
    "    ckpt_path=\"lag-llama.ckpt\",\n",
    "    prediction_length=dataset.metadata.prediction_length,\n",
    "    \n",
    "    #\n",
    "    # This is specific to Lag-Llama due to training;\n",
    "    # do not change this value.\n",
    "    #\n",
    "    context_length=32,\n",
    "\n",
    "    #\n",
    "    # estimator args\n",
    "    #\n",
    "    input_size=estimator_args[\"input_size\"],\n",
    "    n_layer=estimator_args[\"n_layer\"],\n",
    "    n_embd_per_head=estimator_args[\"n_embd_per_head\"],\n",
    "    n_head=estimator_args[\"n_head\"],\n",
    "    scaling=estimator_args[\"scaling\"],\n",
    "    time_feat=estimator_args[\"time_feat\"],\n",
    "    \n",
    "    nonnegative_pred_samples=True,\n",
    "    aug_prob=0,\n",
    "    lr=5e-4,\n",
    "\n",
    "    batch_size=64,\n",
    "    num_parallel_samples=20,\n",
    "    trainer_kwargs = {\"max_epochs\": 50,},\n",
    ")"
   ]
  },
  {
   "cell_type": "code",
   "execution_count": null,
   "id": "ad856ec0-dec2-47c7-9192-aca7beb77ed4",
   "metadata": {},
   "outputs": [],
   "source": [
    "predictor = estimator.train(\n",
    "    dataset.train,\n",
    "    cache_data=True,\n",
    "    shuffle_buffer_length=1000\n",
    ")"
   ]
  },
  {
   "cell_type": "markdown",
   "id": "f83dd5d7-8f09-4f82-af1b-12b4bdd04798",
   "metadata": {},
   "source": [
    "## 6. Evaluate Fine-Tuned Lag-Llama"
   ]
  },
  {
   "cell_type": "code",
   "execution_count": null,
   "id": "2d34e0f3-d1a5-4a3d-af49-b77208beb790",
   "metadata": {},
   "outputs": [],
   "source": [
    "forecast_it, ts_it = make_evaluation_predictions(\n",
    "    dataset=dataset.test,\n",
    "    predictor=predictor,\n",
    "    num_samples=20\n",
    ")"
   ]
  },
  {
   "cell_type": "code",
   "execution_count": null,
   "id": "3d2ac6c8-51d4-477b-a814-5f95bc93566a",
   "metadata": {},
   "outputs": [],
   "source": [
    "forecasts = list(tqdm(forecast_it, total=len(dataset), desc=\"Forecasting Batches\"))"
   ]
  },
  {
   "cell_type": "code",
   "execution_count": null,
   "id": "1b0162a8-6816-4f88-9fed-ac5ba0c95b1b",
   "metadata": {},
   "outputs": [],
   "source": [
    "tss = list(tqdm(ts_it, total=len(dataset), desc=\"Ground Truth\"))"
   ]
  },
  {
   "cell_type": "code",
   "execution_count": null,
   "id": "3d544d95-a541-41c3-a6ec-7a8f5ce446f6",
   "metadata": {},
   "outputs": [],
   "source": [
    "plt.figure(figsize=(20, 15))\n",
    "date_formater = mpld.DateFormatter('%b, %d')\n",
    "plt.rcParams.update({'font.size': 15})\n",
    "\n",
    "# Iterate through the first 9 series, and plot the predicted samples\n",
    "for idx, (forecast, ts) in islice(enumerate(zip(forecasts, tss)), 9):\n",
    "    ax = plt.subplot(3, 3, idx+1)\n",
    "\n",
    "    plt.plot(ts[-4 * dataset.metadata.prediction_length:].to_timestamp(), label=\"target\", )\n",
    "    forecast.plot( color='g')\n",
    "    plt.xticks(rotation=60)\n",
    "    ax.xaxis.set_major_formatter(date_formater)\n",
    "    ax.set_title(forecast.item_id)\n",
    "\n",
    "plt.gcf().tight_layout()\n",
    "plt.legend()\n",
    "plt.show()"
   ]
  },
  {
   "cell_type": "code",
   "execution_count": null,
   "id": "03278f76-3436-4d91-8be7-e38aa8edc209",
   "metadata": {},
   "outputs": [],
   "source": [
    "evaluator = Evaluator()\n",
    "\n",
    "agg_metrics, ts_metrics = evaluator(\n",
    "    iter(tss), iter(forecasts)\n",
    ")\n",
    "\n",
    "print(\"CRPS:\", agg_metrics['mean_wQuantileLoss'])"
   ]
  },
  {
   "cell_type": "markdown",
   "id": "6f7d7f05-2ba5-48d0-aae6-faabeeedda9c",
   "metadata": {},
   "source": [
    "## 7. Summary/Conclusions"
   ]
  },
  {
   "cell_type": "markdown",
   "id": "d39d4342-2252-42d0-9afe-f3c440ad5660",
   "metadata": {},
   "source": [
    "In a run of this notebook, we determined Continuous Ranked Probability Score (CRPS) to be:\n",
    "\n",
    "* Zero-shot Lag-Llama: CRPS = 0.0489\n",
    "* SimpleFeedForwardEstimator: CPRS = 0.0747\n",
    "* Fine-Tuned Lag-Llama: CRPS = 0.0434\n",
    "\n",
    "where a lower CRPS number indicates better performance."
   ]
  }
 ],
 "metadata": {
  "availableInstances": [
   {
    "_defaultOrder": 0,
    "_isFastLaunch": true,
    "category": "General purpose",
    "gpuNum": 0,
    "hideHardwareSpecs": false,
    "memoryGiB": 4,
    "name": "ml.t3.medium",
    "vcpuNum": 2
   },
   {
    "_defaultOrder": 1,
    "_isFastLaunch": false,
    "category": "General purpose",
    "gpuNum": 0,
    "hideHardwareSpecs": false,
    "memoryGiB": 8,
    "name": "ml.t3.large",
    "vcpuNum": 2
   },
   {
    "_defaultOrder": 2,
    "_isFastLaunch": false,
    "category": "General purpose",
    "gpuNum": 0,
    "hideHardwareSpecs": false,
    "memoryGiB": 16,
    "name": "ml.t3.xlarge",
    "vcpuNum": 4
   },
   {
    "_defaultOrder": 3,
    "_isFastLaunch": false,
    "category": "General purpose",
    "gpuNum": 0,
    "hideHardwareSpecs": false,
    "memoryGiB": 32,
    "name": "ml.t3.2xlarge",
    "vcpuNum": 8
   },
   {
    "_defaultOrder": 4,
    "_isFastLaunch": true,
    "category": "General purpose",
    "gpuNum": 0,
    "hideHardwareSpecs": false,
    "memoryGiB": 8,
    "name": "ml.m5.large",
    "vcpuNum": 2
   },
   {
    "_defaultOrder": 5,
    "_isFastLaunch": false,
    "category": "General purpose",
    "gpuNum": 0,
    "hideHardwareSpecs": false,
    "memoryGiB": 16,
    "name": "ml.m5.xlarge",
    "vcpuNum": 4
   },
   {
    "_defaultOrder": 6,
    "_isFastLaunch": false,
    "category": "General purpose",
    "gpuNum": 0,
    "hideHardwareSpecs": false,
    "memoryGiB": 32,
    "name": "ml.m5.2xlarge",
    "vcpuNum": 8
   },
   {
    "_defaultOrder": 7,
    "_isFastLaunch": false,
    "category": "General purpose",
    "gpuNum": 0,
    "hideHardwareSpecs": false,
    "memoryGiB": 64,
    "name": "ml.m5.4xlarge",
    "vcpuNum": 16
   },
   {
    "_defaultOrder": 8,
    "_isFastLaunch": false,
    "category": "General purpose",
    "gpuNum": 0,
    "hideHardwareSpecs": false,
    "memoryGiB": 128,
    "name": "ml.m5.8xlarge",
    "vcpuNum": 32
   },
   {
    "_defaultOrder": 9,
    "_isFastLaunch": false,
    "category": "General purpose",
    "gpuNum": 0,
    "hideHardwareSpecs": false,
    "memoryGiB": 192,
    "name": "ml.m5.12xlarge",
    "vcpuNum": 48
   },
   {
    "_defaultOrder": 10,
    "_isFastLaunch": false,
    "category": "General purpose",
    "gpuNum": 0,
    "hideHardwareSpecs": false,
    "memoryGiB": 256,
    "name": "ml.m5.16xlarge",
    "vcpuNum": 64
   },
   {
    "_defaultOrder": 11,
    "_isFastLaunch": false,
    "category": "General purpose",
    "gpuNum": 0,
    "hideHardwareSpecs": false,
    "memoryGiB": 384,
    "name": "ml.m5.24xlarge",
    "vcpuNum": 96
   },
   {
    "_defaultOrder": 12,
    "_isFastLaunch": false,
    "category": "General purpose",
    "gpuNum": 0,
    "hideHardwareSpecs": false,
    "memoryGiB": 8,
    "name": "ml.m5d.large",
    "vcpuNum": 2
   },
   {
    "_defaultOrder": 13,
    "_isFastLaunch": false,
    "category": "General purpose",
    "gpuNum": 0,
    "hideHardwareSpecs": false,
    "memoryGiB": 16,
    "name": "ml.m5d.xlarge",
    "vcpuNum": 4
   },
   {
    "_defaultOrder": 14,
    "_isFastLaunch": false,
    "category": "General purpose",
    "gpuNum": 0,
    "hideHardwareSpecs": false,
    "memoryGiB": 32,
    "name": "ml.m5d.2xlarge",
    "vcpuNum": 8
   },
   {
    "_defaultOrder": 15,
    "_isFastLaunch": false,
    "category": "General purpose",
    "gpuNum": 0,
    "hideHardwareSpecs": false,
    "memoryGiB": 64,
    "name": "ml.m5d.4xlarge",
    "vcpuNum": 16
   },
   {
    "_defaultOrder": 16,
    "_isFastLaunch": false,
    "category": "General purpose",
    "gpuNum": 0,
    "hideHardwareSpecs": false,
    "memoryGiB": 128,
    "name": "ml.m5d.8xlarge",
    "vcpuNum": 32
   },
   {
    "_defaultOrder": 17,
    "_isFastLaunch": false,
    "category": "General purpose",
    "gpuNum": 0,
    "hideHardwareSpecs": false,
    "memoryGiB": 192,
    "name": "ml.m5d.12xlarge",
    "vcpuNum": 48
   },
   {
    "_defaultOrder": 18,
    "_isFastLaunch": false,
    "category": "General purpose",
    "gpuNum": 0,
    "hideHardwareSpecs": false,
    "memoryGiB": 256,
    "name": "ml.m5d.16xlarge",
    "vcpuNum": 64
   },
   {
    "_defaultOrder": 19,
    "_isFastLaunch": false,
    "category": "General purpose",
    "gpuNum": 0,
    "hideHardwareSpecs": false,
    "memoryGiB": 384,
    "name": "ml.m5d.24xlarge",
    "vcpuNum": 96
   },
   {
    "_defaultOrder": 20,
    "_isFastLaunch": false,
    "category": "General purpose",
    "gpuNum": 0,
    "hideHardwareSpecs": true,
    "memoryGiB": 0,
    "name": "ml.geospatial.interactive",
    "supportedImageNames": [
     "sagemaker-geospatial-v1-0"
    ],
    "vcpuNum": 0
   },
   {
    "_defaultOrder": 21,
    "_isFastLaunch": true,
    "category": "Compute optimized",
    "gpuNum": 0,
    "hideHardwareSpecs": false,
    "memoryGiB": 4,
    "name": "ml.c5.large",
    "vcpuNum": 2
   },
   {
    "_defaultOrder": 22,
    "_isFastLaunch": false,
    "category": "Compute optimized",
    "gpuNum": 0,
    "hideHardwareSpecs": false,
    "memoryGiB": 8,
    "name": "ml.c5.xlarge",
    "vcpuNum": 4
   },
   {
    "_defaultOrder": 23,
    "_isFastLaunch": false,
    "category": "Compute optimized",
    "gpuNum": 0,
    "hideHardwareSpecs": false,
    "memoryGiB": 16,
    "name": "ml.c5.2xlarge",
    "vcpuNum": 8
   },
   {
    "_defaultOrder": 24,
    "_isFastLaunch": false,
    "category": "Compute optimized",
    "gpuNum": 0,
    "hideHardwareSpecs": false,
    "memoryGiB": 32,
    "name": "ml.c5.4xlarge",
    "vcpuNum": 16
   },
   {
    "_defaultOrder": 25,
    "_isFastLaunch": false,
    "category": "Compute optimized",
    "gpuNum": 0,
    "hideHardwareSpecs": false,
    "memoryGiB": 72,
    "name": "ml.c5.9xlarge",
    "vcpuNum": 36
   },
   {
    "_defaultOrder": 26,
    "_isFastLaunch": false,
    "category": "Compute optimized",
    "gpuNum": 0,
    "hideHardwareSpecs": false,
    "memoryGiB": 96,
    "name": "ml.c5.12xlarge",
    "vcpuNum": 48
   },
   {
    "_defaultOrder": 27,
    "_isFastLaunch": false,
    "category": "Compute optimized",
    "gpuNum": 0,
    "hideHardwareSpecs": false,
    "memoryGiB": 144,
    "name": "ml.c5.18xlarge",
    "vcpuNum": 72
   },
   {
    "_defaultOrder": 28,
    "_isFastLaunch": false,
    "category": "Compute optimized",
    "gpuNum": 0,
    "hideHardwareSpecs": false,
    "memoryGiB": 192,
    "name": "ml.c5.24xlarge",
    "vcpuNum": 96
   },
   {
    "_defaultOrder": 29,
    "_isFastLaunch": true,
    "category": "Accelerated computing",
    "gpuNum": 1,
    "hideHardwareSpecs": false,
    "memoryGiB": 16,
    "name": "ml.g4dn.xlarge",
    "vcpuNum": 4
   },
   {
    "_defaultOrder": 30,
    "_isFastLaunch": false,
    "category": "Accelerated computing",
    "gpuNum": 1,
    "hideHardwareSpecs": false,
    "memoryGiB": 32,
    "name": "ml.g4dn.2xlarge",
    "vcpuNum": 8
   },
   {
    "_defaultOrder": 31,
    "_isFastLaunch": false,
    "category": "Accelerated computing",
    "gpuNum": 1,
    "hideHardwareSpecs": false,
    "memoryGiB": 64,
    "name": "ml.g4dn.4xlarge",
    "vcpuNum": 16
   },
   {
    "_defaultOrder": 32,
    "_isFastLaunch": false,
    "category": "Accelerated computing",
    "gpuNum": 1,
    "hideHardwareSpecs": false,
    "memoryGiB": 128,
    "name": "ml.g4dn.8xlarge",
    "vcpuNum": 32
   },
   {
    "_defaultOrder": 33,
    "_isFastLaunch": false,
    "category": "Accelerated computing",
    "gpuNum": 4,
    "hideHardwareSpecs": false,
    "memoryGiB": 192,
    "name": "ml.g4dn.12xlarge",
    "vcpuNum": 48
   },
   {
    "_defaultOrder": 34,
    "_isFastLaunch": false,
    "category": "Accelerated computing",
    "gpuNum": 1,
    "hideHardwareSpecs": false,
    "memoryGiB": 256,
    "name": "ml.g4dn.16xlarge",
    "vcpuNum": 64
   },
   {
    "_defaultOrder": 35,
    "_isFastLaunch": false,
    "category": "Accelerated computing",
    "gpuNum": 1,
    "hideHardwareSpecs": false,
    "memoryGiB": 61,
    "name": "ml.p3.2xlarge",
    "vcpuNum": 8
   },
   {
    "_defaultOrder": 36,
    "_isFastLaunch": false,
    "category": "Accelerated computing",
    "gpuNum": 4,
    "hideHardwareSpecs": false,
    "memoryGiB": 244,
    "name": "ml.p3.8xlarge",
    "vcpuNum": 32
   },
   {
    "_defaultOrder": 37,
    "_isFastLaunch": false,
    "category": "Accelerated computing",
    "gpuNum": 8,
    "hideHardwareSpecs": false,
    "memoryGiB": 488,
    "name": "ml.p3.16xlarge",
    "vcpuNum": 64
   },
   {
    "_defaultOrder": 38,
    "_isFastLaunch": false,
    "category": "Accelerated computing",
    "gpuNum": 8,
    "hideHardwareSpecs": false,
    "memoryGiB": 768,
    "name": "ml.p3dn.24xlarge",
    "vcpuNum": 96
   },
   {
    "_defaultOrder": 39,
    "_isFastLaunch": false,
    "category": "Memory Optimized",
    "gpuNum": 0,
    "hideHardwareSpecs": false,
    "memoryGiB": 16,
    "name": "ml.r5.large",
    "vcpuNum": 2
   },
   {
    "_defaultOrder": 40,
    "_isFastLaunch": false,
    "category": "Memory Optimized",
    "gpuNum": 0,
    "hideHardwareSpecs": false,
    "memoryGiB": 32,
    "name": "ml.r5.xlarge",
    "vcpuNum": 4
   },
   {
    "_defaultOrder": 41,
    "_isFastLaunch": false,
    "category": "Memory Optimized",
    "gpuNum": 0,
    "hideHardwareSpecs": false,
    "memoryGiB": 64,
    "name": "ml.r5.2xlarge",
    "vcpuNum": 8
   },
   {
    "_defaultOrder": 42,
    "_isFastLaunch": false,
    "category": "Memory Optimized",
    "gpuNum": 0,
    "hideHardwareSpecs": false,
    "memoryGiB": 128,
    "name": "ml.r5.4xlarge",
    "vcpuNum": 16
   },
   {
    "_defaultOrder": 43,
    "_isFastLaunch": false,
    "category": "Memory Optimized",
    "gpuNum": 0,
    "hideHardwareSpecs": false,
    "memoryGiB": 256,
    "name": "ml.r5.8xlarge",
    "vcpuNum": 32
   },
   {
    "_defaultOrder": 44,
    "_isFastLaunch": false,
    "category": "Memory Optimized",
    "gpuNum": 0,
    "hideHardwareSpecs": false,
    "memoryGiB": 384,
    "name": "ml.r5.12xlarge",
    "vcpuNum": 48
   },
   {
    "_defaultOrder": 45,
    "_isFastLaunch": false,
    "category": "Memory Optimized",
    "gpuNum": 0,
    "hideHardwareSpecs": false,
    "memoryGiB": 512,
    "name": "ml.r5.16xlarge",
    "vcpuNum": 64
   },
   {
    "_defaultOrder": 46,
    "_isFastLaunch": false,
    "category": "Memory Optimized",
    "gpuNum": 0,
    "hideHardwareSpecs": false,
    "memoryGiB": 768,
    "name": "ml.r5.24xlarge",
    "vcpuNum": 96
   },
   {
    "_defaultOrder": 47,
    "_isFastLaunch": false,
    "category": "Accelerated computing",
    "gpuNum": 1,
    "hideHardwareSpecs": false,
    "memoryGiB": 16,
    "name": "ml.g5.xlarge",
    "vcpuNum": 4
   },
   {
    "_defaultOrder": 48,
    "_isFastLaunch": false,
    "category": "Accelerated computing",
    "gpuNum": 1,
    "hideHardwareSpecs": false,
    "memoryGiB": 32,
    "name": "ml.g5.2xlarge",
    "vcpuNum": 8
   },
   {
    "_defaultOrder": 49,
    "_isFastLaunch": false,
    "category": "Accelerated computing",
    "gpuNum": 1,
    "hideHardwareSpecs": false,
    "memoryGiB": 64,
    "name": "ml.g5.4xlarge",
    "vcpuNum": 16
   },
   {
    "_defaultOrder": 50,
    "_isFastLaunch": false,
    "category": "Accelerated computing",
    "gpuNum": 1,
    "hideHardwareSpecs": false,
    "memoryGiB": 128,
    "name": "ml.g5.8xlarge",
    "vcpuNum": 32
   },
   {
    "_defaultOrder": 51,
    "_isFastLaunch": false,
    "category": "Accelerated computing",
    "gpuNum": 1,
    "hideHardwareSpecs": false,
    "memoryGiB": 256,
    "name": "ml.g5.16xlarge",
    "vcpuNum": 64
   },
   {
    "_defaultOrder": 52,
    "_isFastLaunch": false,
    "category": "Accelerated computing",
    "gpuNum": 4,
    "hideHardwareSpecs": false,
    "memoryGiB": 192,
    "name": "ml.g5.12xlarge",
    "vcpuNum": 48
   },
   {
    "_defaultOrder": 53,
    "_isFastLaunch": false,
    "category": "Accelerated computing",
    "gpuNum": 4,
    "hideHardwareSpecs": false,
    "memoryGiB": 384,
    "name": "ml.g5.24xlarge",
    "vcpuNum": 96
   },
   {
    "_defaultOrder": 54,
    "_isFastLaunch": false,
    "category": "Accelerated computing",
    "gpuNum": 8,
    "hideHardwareSpecs": false,
    "memoryGiB": 768,
    "name": "ml.g5.48xlarge",
    "vcpuNum": 192
   },
   {
    "_defaultOrder": 55,
    "_isFastLaunch": false,
    "category": "Accelerated computing",
    "gpuNum": 8,
    "hideHardwareSpecs": false,
    "memoryGiB": 1152,
    "name": "ml.p4d.24xlarge",
    "vcpuNum": 96
   },
   {
    "_defaultOrder": 56,
    "_isFastLaunch": false,
    "category": "Accelerated computing",
    "gpuNum": 8,
    "hideHardwareSpecs": false,
    "memoryGiB": 1152,
    "name": "ml.p4de.24xlarge",
    "vcpuNum": 96
   },
   {
    "_defaultOrder": 57,
    "_isFastLaunch": false,
    "category": "Accelerated computing",
    "gpuNum": 0,
    "hideHardwareSpecs": false,
    "memoryGiB": 32,
    "name": "ml.trn1.2xlarge",
    "vcpuNum": 8
   },
   {
    "_defaultOrder": 58,
    "_isFastLaunch": false,
    "category": "Accelerated computing",
    "gpuNum": 0,
    "hideHardwareSpecs": false,
    "memoryGiB": 512,
    "name": "ml.trn1.32xlarge",
    "vcpuNum": 128
   },
   {
    "_defaultOrder": 59,
    "_isFastLaunch": false,
    "category": "Accelerated computing",
    "gpuNum": 0,
    "hideHardwareSpecs": false,
    "memoryGiB": 512,
    "name": "ml.trn1n.32xlarge",
    "vcpuNum": 128
   }
  ],
  "kernelspec": {
   "display_name": "Python 3 (Data Science 3.0)",
   "language": "python",
   "name": "python3__SAGEMAKER_INTERNAL__arn:aws:sagemaker:us-east-1:081325390199:image/sagemaker-data-science-310-v1"
  },
  "language_info": {
   "codemirror_mode": {
    "name": "ipython",
    "version": 3
   },
   "file_extension": ".py",
   "mimetype": "text/x-python",
   "name": "python",
   "nbconvert_exporter": "python",
   "pygments_lexer": "ipython3",
   "version": "3.10.6"
  }
 },
 "nbformat": 4,
 "nbformat_minor": 5
}
